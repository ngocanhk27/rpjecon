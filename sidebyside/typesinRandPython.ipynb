## Learning R and Python types 



## Julia 


