{
  "nbformat": 4,
  "nbformat_minor": 0,
  "metadata": {
    "colab": {
      "provenance": [],
      "authorship_tag": "ABX9TyOVXFSL3aTIwO5tqIVYMev3",
      "include_colab_link": true
    },
    "kernelspec": {
      "name": "ir",
      "display_name": "R"
    },
    "language_info": {
      "name": "R"
    }
  },
  "cells": [
    {
      "cell_type": "markdown",
      "metadata": {
        "id": "view-in-github",
        "colab_type": "text"
      },
      "source": [
        "<a href=\"https://colab.research.google.com/github/ngocanhk27/rpjecon/blob/main/RinColabexample.ipynb\" target=\"_parent\"><img src=\"https://colab.research.google.com/assets/colab-badge.svg\" alt=\"Open In Colab\"/></a>"
      ]
    },
    {
      "cell_type": "code",
      "execution_count": null,
      "metadata": {
        "id": "yAd41XY1stBu"
      },
      "outputs": [],
      "source": []
    },
    {
      "cell_type": "code",
      "source": [
        "a <- 1\n",
        "print(a)\n",
        "x <- 1:10\n",
        "print(x)\n",
        "R.version.string"
      ],
      "metadata": {
        "colab": {
          "base_uri": "https://localhost:8080/",
          "height": 69
        },
        "id": "t8BvleUfsyKV",
        "outputId": "1245b907-3f22-4c00-ae19-67d3c1698ef2"
      },
      "execution_count": 3,
      "outputs": [
        {
          "output_type": "stream",
          "name": "stdout",
          "text": [
            "[1] 1\n",
            " [1]  1  2  3  4  5  6  7  8  9 10\n"
          ]
        },
        {
          "output_type": "display_data",
          "data": {
            "text/html": [
              "'R version 4.3.0 (2023-04-21)'"
            ],
            "text/markdown": "'R version 4.3.0 (2023-04-21)'",
            "text/latex": "'R version 4.3.0 (2023-04-21)'",
            "text/plain": [
              "[1] \"R version 4.3.0 (2023-04-21)\""
            ]
          },
          "metadata": {}
        }
      ]
    }
  ]
}