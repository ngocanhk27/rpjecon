{
  "nbformat": 4,
  "nbformat_minor": 0,
  "metadata": {
    "colab": {
      "provenance": [],
      "include_colab_link": true
    },
    "kernelspec": {
      "name": "ir",
      "display_name": "R"
    },
    "language_info": {
      "name": "R"
    }
  },
  "cells": [
    {
      "cell_type": "markdown",
      "metadata": {
        "id": "view-in-github",
        "colab_type": "text"
      },
      "source": [
        "<a href=\"https://colab.research.google.com/github/ngocanhk27/rpjecon/blob/main/indifferencecurve.ipynb\" target=\"_parent\"><img src=\"https://colab.research.google.com/assets/colab-badge.svg\" alt=\"Open In Colab\"/></a>"
      ]
    },
    {
      "cell_type": "markdown",
      "source": [
        "My first note book using R to learning microeconomics\n",
        "\n",
        "https://github.com/btbeal/Indifference-Curves \n"
      ],
      "metadata": {
        "id": "4ifZS1vzMrkV"
      }
    },
    {
      "cell_type": "code",
      "source": [],
      "metadata": {
        "id": "xwRL_LqWNG8A"
      },
      "execution_count": null,
      "outputs": []
    },
    {
      "cell_type": "markdown",
      "source": [],
      "metadata": {
        "id": "LqFuw2IlNHgy"
      }
    },
    {
      "cell_type": "code",
      "execution_count": null,
      "metadata": {
        "colab": {
          "base_uri": "https://localhost:8080/"
        },
        "id": "3QyTeX9hMlcv",
        "outputId": "e543c763-b379-41df-a812-09e4cfacd778"
      },
      "outputs": [
        {
          "output_type": "stream",
          "name": "stdout",
          "text": [
            "[1] 10\n"
          ]
        }
      ],
      "source": [
        "x <- 10\n",
        "print(x)"
      ]
    }
  ]
}