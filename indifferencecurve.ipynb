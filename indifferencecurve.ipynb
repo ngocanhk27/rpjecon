{
  "nbformat": 4,
  "nbformat_minor": 0,
  "metadata": {
    "colab": {
      "provenance": [],
      "include_colab_link": true
    },
    "kernelspec": {
      "name": "ir",
      "display_name": "R"
    },
    "language_info": {
      "name": "R"
    }
  },
  "cells": [
    {
      "cell_type": "markdown",
      "metadata": {
        "id": "view-in-github",
        "colab_type": "text"
      },
      "source": [
        "<a href=\"https://colab.research.google.com/github/ngocanhk27/rpjecon/blob/main/indifferencecurve.ipynb\" target=\"_parent\"><img src=\"https://colab.research.google.com/assets/colab-badge.svg\" alt=\"Open In Colab\"/></a>"
      ]
    },
    {
      "cell_type": "markdown",
      "source": [
        "My first note book using R to learning microeconomics\n",
        "\n",
        "https://github.com/btbeal/Indifference-Curves \n",
        "https://github.com/kmlv/kmlv.github.io/tree/master/_teaching\n",
        "http://econometricsense.blogspot.com/2011/03/plotting-indifference-curves-with-r.html \n",
        "https://kmlv.github.io/Econ100A_F17/S11_FirmSupply_Ch23/ \n",
        "https://fanwangecon.github.io/M4Econ/ \n",
        "https://fanwangecon.github.io/Math4Econ/derivative_application/htmlpdfm/K_save_households.html \n",
        "https://github.com/FanWangEcon/Math4Econ \n",
        "https://open/chapter/module-2/\n",
        "https://daaronr.github.io/micro-giving-pub/consumers-dmd.html \n",
        "https://rpubs.com/JohnChen3/824180 \n",
        "https://bookdown.org/Albert/finance-shiller/introduction-what-econ252-can-do-for-you-and-your-purposes.html \n",
        "https://rpubs.com/marreola123\n",
        "https://daaronr.github.io/micro-giving-pub/ \n",
        "https://bookdown.org/daaronr/writing-econ/methods-fields.html\n",
        "https://github.com/pmichaillat/intermediate-macro/tree/main/lectureslides\n",
        "https://github.com/hyperfra/Macroeconomic-Theory/tree/main/Classes \n",
        "https://jbduarte.com/teaching/\n",
        "https://github.com/marciosantetti/econ-3640-sp22 \n",
        "https://github.com/marciosantetti/ec339-f22\n",
        "https://github.com/marciosantetti/ec103-fall22/tree/main/lectures \n",
        "https://github.com/marciosantetti/ec103-sp23/tree/main/lectures \n",
        "https://github.com/marciosantetti/ec103-fall22/tree/main/lectures\n",
        "https://www.briancjenkins.com/teaching.html \n",
        "https://github.com/andreneveu/econ200-book\n",
        "http://www.julietacaunedo.com/teaching.html \n",
        "https://bookdown.org/robohay/macroeconomics/demand.html\n",
        "https://www.andrewheiss.com/blog/2017/09/15/create-supply-and-demand-economics-curves-with-ggplot2/\n",
        "https://tmieno2.github.io/R-as-GIS-for-Economists/\n",
        "https://www.murraylax.org/courses.html\n",
        "https://github.com/murraylax/rtutorials \n",
        "https://bookdown.org/robohay/economicsnotes/\n",
        "https://fgeerolf.com/econ102/intro-macro.html \n",
        "https://github.com/wmutschl/Quantitative-Macroeconomics\n",
        "https://hhsievertsen.github.io/applied_econ_with_r/ \n",
        "https://data-88e.github.io/textbook/content/05-utility/utility.html \n",
        "https://github.com/weiyangtham/econ_issues \n",
        "https://github.com/CEU-Economics-and-Business/ECBS-6001-Advanced-Macroeconomics/tree/master \n",
        "https://github.com/anhnguyendepocen/Course-Intro-Macroeconomics\n",
        "https://github.com/hisamsabouni/macroLectures \n",
        "https://github.com/jlcatonjr/Macroeconomics-Growth-and-Monetary-Equilibrium \n",
        "https://github.com/iamlemec/econ3750\n",
        "https://github.com/iamlemec/macro_data \n",
        "https://github.com/anhnguyendepocen/econ3750\n",
        "http://doughanley.com/intermediate_macro/\n",
        "http://doughanley.com/grad_comp/ \n",
        "http://doughanley.com/grad_macro/\n",
        "\n"
      ],
      "metadata": {
        "id": "4ifZS1vzMrkV"
      }
    },
    {
      "cell_type": "code",
      "source": [],
      "metadata": {
        "id": "xwRL_LqWNG8A"
      },
      "execution_count": null,
      "outputs": []
    },
    {
      "cell_type": "markdown",
      "source": [],
      "metadata": {
        "id": "LqFuw2IlNHgy"
      }
    },
    {
      "cell_type": "code",
      "execution_count": null,
      "metadata": {
        "colab": {
          "base_uri": "https://localhost:8080/"
        },
        "id": "3QyTeX9hMlcv",
        "outputId": "e543c763-b379-41df-a812-09e4cfacd778"
      },
      "outputs": [
        {
          "output_type": "stream",
          "name": "stdout",
          "text": [
            "[1] 10\n"
          ]
        }
      ],
      "source": [
        "x <- 10\n",
        "print(x)"
      ]
    }
  ]
}